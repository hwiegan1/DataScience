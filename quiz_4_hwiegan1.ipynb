{
  "nbformat": 4,
  "nbformat_minor": 0,
  "metadata": {
    "colab": {
      "name": "quiz-4-hwiegan1.ipynb",
      "provenance": [],
      "collapsed_sections": []
    },
    "kernelspec": {
      "name": "python3",
      "display_name": "Python 3"
    }
  },
  "cells": [
    {
      "cell_type": "markdown",
      "metadata": {
        "id": "9IKwzmWTeXg-",
        "colab_type": "text"
      },
      "source": [
        "#Quiz 4\n",
        "**Aaron Wiegand, aaron.wiegand@jhu.edu, hwiegan1**\n"
      ]
    },
    {
      "cell_type": "markdown",
      "metadata": {
        "id": "QQscWH4mjcPR",
        "colab_type": "text"
      },
      "source": [
        "#Question 1"
      ]
    },
    {
      "cell_type": "code",
      "metadata": {
        "id": "Hcl0fWREeeCy",
        "colab_type": "code",
        "colab": {}
      },
      "source": [
        "#import packages\n",
        "import numpy as np\n",
        "import pandas as pd\n",
        "import seaborn as sns\n",
        "import matplotlib.pyplot as plt\n",
        "import sklearn.linear_model as lm\n",
        "from sklearn.linear_model import LogisticRegression\n",
        "import sklearn as skl\n",
        "import statsmodels.formula.api as smf\n",
        "import statsmodels as sm\n",
        "import statsmodels.api as sm2\n",
        "import torch\n"
      ],
      "execution_count": 0,
      "outputs": []
    },
    {
      "cell_type": "code",
      "metadata": {
        "id": "dXFSNkaAenbi",
        "colab_type": "code",
        "colab": {
          "base_uri": "https://localhost:8080/",
          "height": 173
        },
        "outputId": "3dec2214-bbe0-42a9-a27e-9ae2dd16435b"
      },
      "source": [
        "#load in the kirby21 dataset\n",
        "! if [ ! -e kirby21.csv ] ; \\\n",
        "  then wget https://raw.githubusercontent.com/bcaffo/ds4bme_intro/master/data/kirby21.csv; \\\n",
        "fi\n",
        "  \n",
        "#read in the data with pandas\n",
        "df = pd.read_csv(\"kirby21.csv\")\n",
        "\n",
        "#Extract the relevant data from the data frame\n",
        "#drop the rawid and unnamed columns\n",
        "df = df.drop(['Unnamed: 0', 'rawid','min','max','mean','std','id','icv','tbv'],\\\n",
        "            axis = 1)\n",
        "\n",
        "#extract the CSF type 1 level 1 data \n",
        "csf = df.loc[(df.type ==1) & (df.level == 1) & (df.roi == 'CSF')]\n",
        "\n",
        "#extract the type 1 level 1 volume data for L and R telencephalon \n",
        "vol_left = df.loc[(df.type ==1) & (df.level == 1) & (df.roi == 'Telencephalon_L')]\n",
        "vol_right = df.loc[(df.type ==1) & (df.level == 1) & (df.roi == 'Telencephalon_R')]\n",
        "\n",
        "#drop unecessary columns\n",
        "vol_left = vol_left.drop(['roi','type','level'],\\\n",
        "                    axis =1)\n",
        "vol_right = vol_right.drop(['roi','type','level'],\\\n",
        "                    axis =1)\n",
        "csf = csf.drop(['roi','type','level'],\\\n",
        "                    axis =1)\n",
        "             \n",
        "#vectorize\n",
        "X1 = np.asarray(vol_left).reshape(20)\n",
        "X2 = np.asarray(vol_right).reshape(20)\n",
        "Y = np.asarray(csf).reshape(20)\n",
        "\n",
        "#construct the new data frame\n",
        "d = {'L': X1, 'R': X2, 'CSF': Y}\n",
        "dat = pd.DataFrame(data = d, columns = ['L','R','CSF'])\n",
        "\n",
        "#show new data frame\n",
        "dat.head(4)"
      ],
      "execution_count": 191,
      "outputs": [
        {
          "output_type": "execute_result",
          "data": {
            "text/html": [
              "<div>\n",
              "<style scoped>\n",
              "    .dataframe tbody tr th:only-of-type {\n",
              "        vertical-align: middle;\n",
              "    }\n",
              "\n",
              "    .dataframe tbody tr th {\n",
              "        vertical-align: top;\n",
              "    }\n",
              "\n",
              "    .dataframe thead th {\n",
              "        text-align: right;\n",
              "    }\n",
              "</style>\n",
              "<table border=\"1\" class=\"dataframe\">\n",
              "  <thead>\n",
              "    <tr style=\"text-align: right;\">\n",
              "      <th></th>\n",
              "      <th>L</th>\n",
              "      <th>R</th>\n",
              "      <th>CSF</th>\n",
              "    </tr>\n",
              "  </thead>\n",
              "  <tbody>\n",
              "    <tr>\n",
              "      <th>0</th>\n",
              "      <td>531111</td>\n",
              "      <td>543404</td>\n",
              "      <td>109776</td>\n",
              "    </tr>\n",
              "    <tr>\n",
              "      <th>1</th>\n",
              "      <td>545603</td>\n",
              "      <td>552216</td>\n",
              "      <td>107334</td>\n",
              "    </tr>\n",
              "    <tr>\n",
              "      <th>2</th>\n",
              "      <td>483107</td>\n",
              "      <td>490805</td>\n",
              "      <td>94254</td>\n",
              "    </tr>\n",
              "    <tr>\n",
              "      <th>3</th>\n",
              "      <td>558849</td>\n",
              "      <td>568830</td>\n",
              "      <td>67156</td>\n",
              "    </tr>\n",
              "  </tbody>\n",
              "</table>\n",
              "</div>"
            ],
            "text/plain": [
              "        L       R     CSF\n",
              "0  531111  543404  109776\n",
              "1  545603  552216  107334\n",
              "2  483107  490805   94254\n",
              "3  558849  568830   67156"
            ]
          },
          "metadata": {
            "tags": []
          },
          "execution_count": 191
        }
      ]
    },
    {
      "cell_type": "code",
      "metadata": {
        "id": "H4lZYBQoiFB2",
        "colab_type": "code",
        "colab": {
          "base_uri": "https://localhost:8080/",
          "height": 578
        },
        "outputId": "d0d8a140-d1a2-4d47-b09a-26a60cbae720"
      },
      "source": [
        "#ordinary least squares model to predict CSF using left and right volume data -- DO NOT DO ANY DATA SPLITTING \n",
        "results = smf.ols('CSF ~ L + R',data = dat).fit()\n",
        "\n",
        "#interpret the coefficients\n",
        "\n",
        "print('Interpretation of the coefficients:\\nThe y intercept tells you the predicted y value of the fitted line when all parameters (L and R volume) are zero.\\nThe linear regression equation is CSF = 1.9498(Left Volume) -1.7003(Right Volume) -2.287e+04 \\nwhere the weights are the coefficients in front of the volumes and the y intercept beta_0 is subtracted at the end.\\n')\n",
        "print(results.summary())\n"
      ],
      "execution_count": 192,
      "outputs": [
        {
          "output_type": "stream",
          "text": [
            "Interpretation of the coefficients:\n",
            "The y intercept tells you the predicted y value of the fitted line when all parameters (L and R volume) are zero.\n",
            "The linear regression equation is CSF = 1.9498(Left Volume) -1.7003(Right Volume) -2.287e+04 \n",
            "where the weights are the coefficients in front of the volumes and the y intercept beta_0 is subtracted at the end.\n",
            "\n",
            "                            OLS Regression Results                            \n",
            "==============================================================================\n",
            "Dep. Variable:                    CSF   R-squared:                       0.257\n",
            "Model:                            OLS   Adj. R-squared:                  0.170\n",
            "Method:                 Least Squares   F-statistic:                     2.941\n",
            "Date:                Fri, 27 Sep 2019   Prob (F-statistic):             0.0800\n",
            "Time:                        19:45:55   Log-Likelihood:                -223.51\n",
            "No. Observations:                  20   AIC:                             453.0\n",
            "Df Residuals:                      17   BIC:                             456.0\n",
            "Df Model:                           2                                         \n",
            "Covariance Type:            nonrobust                                         \n",
            "==============================================================================\n",
            "                 coef    std err          t      P>|t|      [0.025      0.975]\n",
            "------------------------------------------------------------------------------\n",
            "Intercept  -2.287e+04    5.1e+04     -0.449      0.659    -1.3e+05    8.47e+04\n",
            "L              1.9498      1.092      1.785      0.092      -0.354       4.254\n",
            "R             -1.7003      1.042     -1.632      0.121      -3.898       0.497\n",
            "==============================================================================\n",
            "Omnibus:                        0.023   Durbin-Watson:                   2.521\n",
            "Prob(Omnibus):                  0.989   Jarque-Bera (JB):                0.228\n",
            "Skew:                          -0.037   Prob(JB):                        0.892\n",
            "Kurtosis:                       2.482   Cond. No.                     8.74e+06\n",
            "==============================================================================\n",
            "\n",
            "Warnings:\n",
            "[1] Standard Errors assume that the covariance matrix of the errors is correctly specified.\n",
            "[2] The condition number is large, 8.74e+06. This might indicate that there are\n",
            "strong multicollinearity or other numerical problems.\n"
          ],
          "name": "stdout"
        }
      ]
    },
    {
      "cell_type": "code",
      "metadata": {
        "id": "z27sWigHinw6",
        "colab_type": "code",
        "colab": {
          "base_uri": "https://localhost:8080/",
          "height": 527
        },
        "outputId": "16244083-d718-4d18-c730-efebb42f4583"
      },
      "source": [
        "#trying a second ordinary least squares linear regression model:\n",
        "x = dat[['L','R']]\n",
        "y = dat[['CSF']]\n",
        "results = sm2.OLS(y, x).fit()\n",
        "\n",
        "#interpret the coefficients\n",
        "print('Interpreting the coefficients: \\nCSF = 1.7698(Left Volume)  -1.5678(Right Volume) \\nwhere the weights are the coefficients in front of the volumes and the y intercept beta_0 is centered at 0.')\n",
        "print('The R-squared value is significantly higher than the one in the model above, indicating that this model is a better fit of the data.\\n')\n",
        "print(results.summary())\n",
        "\n",
        "\n"
      ],
      "execution_count": 193,
      "outputs": [
        {
          "output_type": "stream",
          "text": [
            "Interpreting the coefficients: \n",
            "CSF = 1.7698(Left Volume)  -1.5678(Right Volume) \n",
            "where the weights are the coefficients in front of the volumes and the y intercept beta_0 is centered at 0.\n",
            "The R-squared value is significantly higher than the one in the model above, indicating that this model is a better fit of the data.\n",
            "\n",
            "                                 OLS Regression Results                                \n",
            "=======================================================================================\n",
            "Dep. Variable:                    CSF   R-squared (uncentered):                   0.963\n",
            "Model:                            OLS   Adj. R-squared (uncentered):              0.959\n",
            "Method:                 Least Squares   F-statistic:                              234.4\n",
            "Date:                Fri, 27 Sep 2019   Prob (F-statistic):                    1.29e-13\n",
            "Time:                        19:45:55   Log-Likelihood:                         -223.63\n",
            "No. Observations:                  20   AIC:                                      451.3\n",
            "Df Residuals:                      18   BIC:                                      453.2\n",
            "Df Model:                           2                                                  \n",
            "Covariance Type:            nonrobust                                                  \n",
            "==============================================================================\n",
            "                 coef    std err          t      P>|t|      [0.025      0.975]\n",
            "------------------------------------------------------------------------------\n",
            "L              1.7698      0.993      1.782      0.092      -0.316       3.856\n",
            "R             -1.5678      0.976     -1.606      0.126      -3.619       0.484\n",
            "==============================================================================\n",
            "Omnibus:                        0.168   Durbin-Watson:                   2.547\n",
            "Prob(Omnibus):                  0.919   Jarque-Bera (JB):                0.381\n",
            "Skew:                          -0.003   Prob(JB):                        0.826\n",
            "Kurtosis:                       2.323   Cond. No.                         244.\n",
            "==============================================================================\n",
            "\n",
            "Warnings:\n",
            "[1] Standard Errors assume that the covariance matrix of the errors is correctly specified.\n"
          ],
          "name": "stdout"
        }
      ]
    },
    {
      "cell_type": "markdown",
      "metadata": {
        "id": "FO46xeH1_Br2",
        "colab_type": "text"
      },
      "source": [
        "#Question 2"
      ]
    },
    {
      "cell_type": "code",
      "metadata": {
        "id": "4sacKQFY_Ez0",
        "colab_type": "code",
        "colab": {
          "base_uri": "https://localhost:8080/",
          "height": 173
        },
        "outputId": "1b93098e-eba6-4932-a471-09d7d2ec686a"
      },
      "source": [
        "#load the admissions data\n",
        "\n",
        "#load in the kirby21 dataset\n",
        "! if [ ! -e binary.csv ] ; \\\n",
        "  then wget https://stats.idre.ucla.edu/stat/data/binary.csv; \\\n",
        "fi\n",
        "  \n",
        "#read in the data with pandas\n",
        "adm = pd.read_csv(\"binary.csv\")\n",
        "\n",
        "#show the first 4 rows of the df\n",
        "adm.head(4)\n"
      ],
      "execution_count": 194,
      "outputs": [
        {
          "output_type": "execute_result",
          "data": {
            "text/html": [
              "<div>\n",
              "<style scoped>\n",
              "    .dataframe tbody tr th:only-of-type {\n",
              "        vertical-align: middle;\n",
              "    }\n",
              "\n",
              "    .dataframe tbody tr th {\n",
              "        vertical-align: top;\n",
              "    }\n",
              "\n",
              "    .dataframe thead th {\n",
              "        text-align: right;\n",
              "    }\n",
              "</style>\n",
              "<table border=\"1\" class=\"dataframe\">\n",
              "  <thead>\n",
              "    <tr style=\"text-align: right;\">\n",
              "      <th></th>\n",
              "      <th>admit</th>\n",
              "      <th>gre</th>\n",
              "      <th>gpa</th>\n",
              "      <th>rank</th>\n",
              "    </tr>\n",
              "  </thead>\n",
              "  <tbody>\n",
              "    <tr>\n",
              "      <th>0</th>\n",
              "      <td>0</td>\n",
              "      <td>380</td>\n",
              "      <td>3.61</td>\n",
              "      <td>3</td>\n",
              "    </tr>\n",
              "    <tr>\n",
              "      <th>1</th>\n",
              "      <td>1</td>\n",
              "      <td>660</td>\n",
              "      <td>3.67</td>\n",
              "      <td>3</td>\n",
              "    </tr>\n",
              "    <tr>\n",
              "      <th>2</th>\n",
              "      <td>1</td>\n",
              "      <td>800</td>\n",
              "      <td>4.00</td>\n",
              "      <td>1</td>\n",
              "    </tr>\n",
              "    <tr>\n",
              "      <th>3</th>\n",
              "      <td>1</td>\n",
              "      <td>640</td>\n",
              "      <td>3.19</td>\n",
              "      <td>4</td>\n",
              "    </tr>\n",
              "  </tbody>\n",
              "</table>\n",
              "</div>"
            ],
            "text/plain": [
              "   admit  gre   gpa  rank\n",
              "0      0  380  3.61     3\n",
              "1      1  660  3.67     3\n",
              "2      1  800  4.00     1\n",
              "3      1  640  3.19     4"
            ]
          },
          "metadata": {
            "tags": []
          },
          "execution_count": 194
        }
      ]
    },
    {
      "cell_type": "code",
      "metadata": {
        "id": "4cq65wE0Rke1",
        "colab_type": "code",
        "colab": {
          "base_uri": "https://localhost:8080/",
          "height": 496
        },
        "outputId": "26813668-8341-4d8b-82ea-7abebeedde16"
      },
      "source": [
        "#Create a logistic regression model to predict graduate school admission using gpa, gre score and undergraduate department prestige (rank). \n",
        "#Hold out 25% of the data (randomly selected) for testing and 75% for training\n",
        "\n",
        "#load the data into x and y\n",
        "x = adm[['gre','gpa','rank']]\n",
        "y = adm[['admit']]\n",
        "\n",
        "\n",
        "#split into testing and training sets\n",
        "trainFraction = .75\n",
        "np.random.seed(2)\n",
        "sample = np.random.uniform(size = 400) < trainFraction\n",
        "\n",
        "## Add the intercept column\n",
        "x = sm.tools.add_constant(x)\n",
        "\n",
        "#define training and testing data\n",
        "xtrain = x[sample]\n",
        "xtest = x[~sample]\n",
        "ytrain = y[sample]\n",
        "ytest = y[~sample]\n",
        "\n",
        "#apply the logistic regression model\n",
        "fit = sm.discrete.discrete_model.Logit(ytrain, xtrain).fit()\n",
        "\n",
        "#interpret the logistic regression coefficients\n",
        "print('\\nInterpretation of the logistic regression coefficients:\\nThe coefficients tell you the log odds of the predicted values. \\ni.e. the y intercept (beta_0 coefficient) tells you the log odds of being accepted when all parameters including gpa, gre, and rank are zero.\\n')\n",
        "\n",
        "#show results\n",
        "print(fit.summary())\n"
      ],
      "execution_count": 195,
      "outputs": [
        {
          "output_type": "stream",
          "text": [
            "Optimization terminated successfully.\n",
            "         Current function value: 0.571653\n",
            "         Iterations 6\n",
            "\n",
            "Interpretation of the logistic regression coefficients:\n",
            "The coefficients tell you the log odds of the predicted values. \n",
            "i.e. the y intercept (beta_0 coefficient) tells you the log odds of being accepted when all parameters including gpa, gre, and rank are zero.\n",
            "\n",
            "                           Logit Regression Results                           \n",
            "==============================================================================\n",
            "Dep. Variable:                  admit   No. Observations:                  310\n",
            "Model:                          Logit   Df Residuals:                      306\n",
            "Method:                           MLE   Df Model:                            3\n",
            "Date:                Fri, 27 Sep 2019   Pseudo R-squ.:                 0.09429\n",
            "Time:                        19:45:56   Log-Likelihood:                -177.21\n",
            "converged:                       True   LL-Null:                       -195.66\n",
            "Covariance Type:            nonrobust   LLR p-value:                 4.832e-08\n",
            "==============================================================================\n",
            "                 coef    std err          z      P>|z|      [0.025      0.975]\n",
            "------------------------------------------------------------------------------\n",
            "const         -4.5030      1.307     -3.446      0.001      -7.064      -1.942\n",
            "gre            0.0016      0.001      1.308      0.191      -0.001       0.004\n",
            "gpa            1.2009      0.388      3.095      0.002       0.440       1.961\n",
            "rank          -0.5586      0.146     -3.826      0.000      -0.845      -0.272\n",
            "==============================================================================\n"
          ],
          "name": "stdout"
        },
        {
          "output_type": "stream",
          "text": [
            "/usr/local/lib/python3.6/dist-packages/numpy/core/fromnumeric.py:2389: FutureWarning: Method .ptp is deprecated and will be removed in a future version. Use numpy.ptp instead.\n",
            "  return ptp(axis=axis, out=out, **kwargs)\n"
          ],
          "name": "stderr"
        }
      ]
    },
    {
      "cell_type": "code",
      "metadata": {
        "id": "6IR8eoYoXFs7",
        "colab_type": "code",
        "colab": {}
      },
      "source": [
        "#predict the probability of admission for your testing data\n",
        "yhat_test = fit.predict(xtest)\n",
        "\n",
        "#for each threshold, threshold your predicted probabilities and compare\n",
        "fpr, tpr, threshold = skl.metrics.roc_curve(ytest, yhat_test)\n",
        "roc_auc = skl.metrics.auc(fpr, tpr)\n",
        "\n",
        "\n",
        "#compute the accuracy = true positive rate (tpr) + true negative rate (specificity)\n",
        "#tpr = np.asarray(tpr)\n",
        "#fpr = np.asarray(fpr)\n",
        "acc = np.add(tpr, 1-fpr) / 2\n"
      ],
      "execution_count": 0,
      "outputs": []
    },
    {
      "cell_type": "code",
      "metadata": {
        "id": "7V10_MLGbib5",
        "colab_type": "code",
        "colab": {
          "base_uri": "https://localhost:8080/",
          "height": 421
        },
        "outputId": "dbb8d135-c280-4de6-bc51-754495c296e8"
      },
      "source": [
        "#make plots\n",
        "plt.figure(figsize = (8,6))\n",
        "plt.plot(threshold,tpr) #sensitivity aka true positive rate\n",
        "plt.plot(threshold, 1-fpr) #specificity aka true negative rate\n",
        "plt.plot(threshold,acc)\n",
        "\n",
        "plt.xlabel('Threshold')\n",
        "plt.xlim(0,1)\n",
        "plt.title('Graph of threshold compared to sensitivity, specificity, and accuracy')\n",
        "plt.ylabel('Percent in decimal form')\n",
        "plt.legend(('Sensitivity','Specificity','Accuracy'))\n"
      ],
      "execution_count": 197,
      "outputs": [
        {
          "output_type": "execute_result",
          "data": {
            "text/plain": [
              "<matplotlib.legend.Legend at 0x7fec42f6ff28>"
            ]
          },
          "metadata": {
            "tags": []
          },
          "execution_count": 197
        },
        {
          "output_type": "display_data",
          "data": {
            "image/png": "[encoded data removed]",
            "text/plain": [
              "<Figure size 576x432 with 1 Axes>"
            ]
          },
          "metadata": {
            "tags": []
          }
        }
      ]
    },
    {
      "cell_type": "code",
      "metadata": {
        "id": "_72q4fp1V5vg",
        "colab_type": "code",
        "colab": {
          "base_uri": "https://localhost:8080/",
          "height": 295
        },
        "outputId": "6c7796e2-f320-46cf-bf11-93acb4caa393"
      },
      "source": [
        "#make an ROC curve by plotting the false positive against true positive rate\n",
        "\n",
        "import matplotlib.pyplot as plt\n",
        "plt.title('Receiver Operating Characteristic')\n",
        "plt.plot(fpr, tpr, 'b', label = 'AUC = %0.2f' % roc_auc)\n",
        "plt.legend(loc = 'lower right')\n",
        "plt.plot([0, 1], [0, 1],'r--')\n",
        "plt.xlim([0, 1])\n",
        "plt.ylim([0, 1])\n",
        "plt.ylabel('True Positive Rate')\n",
        "plt.xlabel('False Positive Rate')\n",
        "plt.show()\n"
      ],
      "execution_count": 198,
      "outputs": [
        {
          "output_type": "display_data",
          "data": {
            "image/png": "[encoded data removed]",
            "text/plain": [
              "<Figure size 432x288 with 1 Axes>"
            ]
          },
          "metadata": {
            "tags": []
          }
        }
      ]
    },
    {
      "cell_type": "markdown",
      "metadata": {
        "id": "Lsb-zO_yjhyN",
        "colab_type": "text"
      },
      "source": [
        "#Question 3"
      ]
    },
    {
      "cell_type": "code",
      "metadata": {
        "id": "h2u91xVgiaHj",
        "colab_type": "code",
        "colab": {
          "base_uri": "https://localhost:8080/",
          "height": 617
        },
        "outputId": "4ae6bca9-5bd9-4660-aeec-9e3a74861889"
      },
      "source": [
        "#this data was taken from: https://www.kaggle.com/kumarajarshi/life-expectancy-who\n",
        "\n",
        "# Download the dataset\n",
        "! if [ ! -e Life%Expectancy%Data.csv ]; \\\n",
        "then wget https://raw.githubusercontent.com/hwiegan1/DataScience/master/Life%20Expectancy%20Data.csv; \\\n",
        "fi;\n",
        "\n",
        "# Read in the data and display a few rows\n",
        "proj = pd.read_csv(\"Life Expectancy Data.csv\")\n",
        "\n",
        "#print the first ten rows\n",
        "proj.head(10)"
      ],
      "execution_count": 199,
      "outputs": [
        {
          "output_type": "stream",
          "text": [
            "--2019-09-27 19:45:57--  https://raw.githubusercontent.com/hwiegan1/DataScience/master/Life%20Expectancy%20Data.csv\n",
            "Resolving raw.githubusercontent.com (raw.githubusercontent.com)... 151.101.0.133, 151.101.64.133, 151.101.128.133, ...\n",
            "Connecting to raw.githubusercontent.com (raw.githubusercontent.com)|151.101.0.133|:443... connected.\n",
            "HTTP request sent, awaiting response... 200 OK\n",
            "Length: 333442 (326K) [text/plain]\n",
            "Saving to: ‘Life Expectancy Data.csv.4’\n",
            "\n",
            "\r          Life Expe   0%[                    ]       0  --.-KB/s               \rLife Expectancy Dat 100%[===================>] 325.63K  --.-KB/s    in 0.05s   \n",
            "\n",
            "2019-09-27 19:45:57 (6.38 MB/s) - ‘Life Expectancy Data.csv.4’ saved [333442/333442]\n",
            "\n"
          ],
          "name": "stdout"
        },
        {
          "output_type": "execute_result",
          "data": {
            "text/html": [
              "<div>\n",
              "<style scoped>\n",
              "    .dataframe tbody tr th:only-of-type {\n",
              "        vertical-align: middle;\n",
              "    }\n",
              "\n",
              "    .dataframe tbody tr th {\n",
              "        vertical-align: top;\n",
              "    }\n",
              "\n",
              "    .dataframe thead th {\n",
              "        text-align: right;\n",
              "    }\n",
              "</style>\n",
              "<table border=\"1\" class=\"dataframe\">\n",
              "  <thead>\n",
              "    <tr style=\"text-align: right;\">\n",
              "      <th></th>\n",
              "      <th>Country</th>\n",
              "      <th>Year</th>\n",
              "      <th>Status</th>\n",
              "      <th>Life expectancy</th>\n",
              "      <th>Adult Mortality</th>\n",
              "      <th>infant deaths</th>\n",
              "      <th>Alcohol</th>\n",
              "      <th>percentage expenditure</th>\n",
              "      <th>Hepatitis B</th>\n",
              "      <th>Measles</th>\n",
              "      <th>BMI</th>\n",
              "      <th>under-five deaths</th>\n",
              "      <th>Polio</th>\n",
              "      <th>Total expenditure</th>\n",
              "      <th>Diphtheria</th>\n",
              "      <th>HIV/AIDS</th>\n",
              "      <th>GDP</th>\n",
              "      <th>Population</th>\n",
              "      <th>thinness  1-19 years</th>\n",
              "      <th>thinness 5-9 years</th>\n",
              "      <th>Income composition of resources</th>\n",
              "      <th>Schooling</th>\n",
              "    </tr>\n",
              "  </thead>\n",
              "  <tbody>\n",
              "    <tr>\n",
              "      <th>0</th>\n",
              "      <td>Afghanistan</td>\n",
              "      <td>2015</td>\n",
              "      <td>Developing</td>\n",
              "      <td>65.0</td>\n",
              "      <td>263.0</td>\n",
              "      <td>62</td>\n",
              "      <td>0.01</td>\n",
              "      <td>71.279624</td>\n",
              "      <td>65.0</td>\n",
              "      <td>1154</td>\n",
              "      <td>19.1</td>\n",
              "      <td>83</td>\n",
              "      <td>6.0</td>\n",
              "      <td>8.16</td>\n",
              "      <td>65.0</td>\n",
              "      <td>0.1</td>\n",
              "      <td>584.259210</td>\n",
              "      <td>33736494.0</td>\n",
              "      <td>17.2</td>\n",
              "      <td>17.3</td>\n",
              "      <td>0.479</td>\n",
              "      <td>10.1</td>\n",
              "    </tr>\n",
              "    <tr>\n",
              "      <th>1</th>\n",
              "      <td>Afghanistan</td>\n",
              "      <td>2014</td>\n",
              "      <td>Developing</td>\n",
              "      <td>59.9</td>\n",
              "      <td>271.0</td>\n",
              "      <td>64</td>\n",
              "      <td>0.01</td>\n",
              "      <td>73.523582</td>\n",
              "      <td>62.0</td>\n",
              "      <td>492</td>\n",
              "      <td>18.6</td>\n",
              "      <td>86</td>\n",
              "      <td>58.0</td>\n",
              "      <td>8.18</td>\n",
              "      <td>62.0</td>\n",
              "      <td>0.1</td>\n",
              "      <td>612.696514</td>\n",
              "      <td>327582.0</td>\n",
              "      <td>17.5</td>\n",
              "      <td>17.5</td>\n",
              "      <td>0.476</td>\n",
              "      <td>10.0</td>\n",
              "    </tr>\n",
              "    <tr>\n",
              "      <th>2</th>\n",
              "      <td>Afghanistan</td>\n",
              "      <td>2013</td>\n",
              "      <td>Developing</td>\n",
              "      <td>59.9</td>\n",
              "      <td>268.0</td>\n",
              "      <td>66</td>\n",
              "      <td>0.01</td>\n",
              "      <td>73.219243</td>\n",
              "      <td>64.0</td>\n",
              "      <td>430</td>\n",
              "      <td>18.1</td>\n",
              "      <td>89</td>\n",
              "      <td>62.0</td>\n",
              "      <td>8.13</td>\n",
              "      <td>64.0</td>\n",
              "      <td>0.1</td>\n",
              "      <td>631.744976</td>\n",
              "      <td>31731688.0</td>\n",
              "      <td>17.7</td>\n",
              "      <td>17.7</td>\n",
              "      <td>0.470</td>\n",
              "      <td>9.9</td>\n",
              "    </tr>\n",
              "    <tr>\n",
              "      <th>3</th>\n",
              "      <td>Afghanistan</td>\n",
              "      <td>2012</td>\n",
              "      <td>Developing</td>\n",
              "      <td>59.5</td>\n",
              "      <td>272.0</td>\n",
              "      <td>69</td>\n",
              "      <td>0.01</td>\n",
              "      <td>78.184215</td>\n",
              "      <td>67.0</td>\n",
              "      <td>2787</td>\n",
              "      <td>17.6</td>\n",
              "      <td>93</td>\n",
              "      <td>67.0</td>\n",
              "      <td>8.52</td>\n",
              "      <td>67.0</td>\n",
              "      <td>0.1</td>\n",
              "      <td>669.959000</td>\n",
              "      <td>3696958.0</td>\n",
              "      <td>17.9</td>\n",
              "      <td>18.0</td>\n",
              "      <td>0.463</td>\n",
              "      <td>9.8</td>\n",
              "    </tr>\n",
              "    <tr>\n",
              "      <th>4</th>\n",
              "      <td>Afghanistan</td>\n",
              "      <td>2011</td>\n",
              "      <td>Developing</td>\n",
              "      <td>59.2</td>\n",
              "      <td>275.0</td>\n",
              "      <td>71</td>\n",
              "      <td>0.01</td>\n",
              "      <td>7.097109</td>\n",
              "      <td>68.0</td>\n",
              "      <td>3013</td>\n",
              "      <td>17.2</td>\n",
              "      <td>97</td>\n",
              "      <td>68.0</td>\n",
              "      <td>7.87</td>\n",
              "      <td>68.0</td>\n",
              "      <td>0.1</td>\n",
              "      <td>63.537231</td>\n",
              "      <td>2978599.0</td>\n",
              "      <td>18.2</td>\n",
              "      <td>18.2</td>\n",
              "      <td>0.454</td>\n",
              "      <td>9.5</td>\n",
              "    </tr>\n",
              "    <tr>\n",
              "      <th>5</th>\n",
              "      <td>Afghanistan</td>\n",
              "      <td>2010</td>\n",
              "      <td>Developing</td>\n",
              "      <td>58.8</td>\n",
              "      <td>279.0</td>\n",
              "      <td>74</td>\n",
              "      <td>0.01</td>\n",
              "      <td>79.679367</td>\n",
              "      <td>66.0</td>\n",
              "      <td>1989</td>\n",
              "      <td>16.7</td>\n",
              "      <td>102</td>\n",
              "      <td>66.0</td>\n",
              "      <td>9.20</td>\n",
              "      <td>66.0</td>\n",
              "      <td>0.1</td>\n",
              "      <td>553.328940</td>\n",
              "      <td>2883167.0</td>\n",
              "      <td>18.4</td>\n",
              "      <td>18.4</td>\n",
              "      <td>0.448</td>\n",
              "      <td>9.2</td>\n",
              "    </tr>\n",
              "    <tr>\n",
              "      <th>6</th>\n",
              "      <td>Afghanistan</td>\n",
              "      <td>2009</td>\n",
              "      <td>Developing</td>\n",
              "      <td>58.6</td>\n",
              "      <td>281.0</td>\n",
              "      <td>77</td>\n",
              "      <td>0.01</td>\n",
              "      <td>56.762217</td>\n",
              "      <td>63.0</td>\n",
              "      <td>2861</td>\n",
              "      <td>16.2</td>\n",
              "      <td>106</td>\n",
              "      <td>63.0</td>\n",
              "      <td>9.42</td>\n",
              "      <td>63.0</td>\n",
              "      <td>0.1</td>\n",
              "      <td>445.893298</td>\n",
              "      <td>284331.0</td>\n",
              "      <td>18.6</td>\n",
              "      <td>18.7</td>\n",
              "      <td>0.434</td>\n",
              "      <td>8.9</td>\n",
              "    </tr>\n",
              "    <tr>\n",
              "      <th>7</th>\n",
              "      <td>Afghanistan</td>\n",
              "      <td>2008</td>\n",
              "      <td>Developing</td>\n",
              "      <td>58.1</td>\n",
              "      <td>287.0</td>\n",
              "      <td>80</td>\n",
              "      <td>0.03</td>\n",
              "      <td>25.873925</td>\n",
              "      <td>64.0</td>\n",
              "      <td>1599</td>\n",
              "      <td>15.7</td>\n",
              "      <td>110</td>\n",
              "      <td>64.0</td>\n",
              "      <td>8.33</td>\n",
              "      <td>64.0</td>\n",
              "      <td>0.1</td>\n",
              "      <td>373.361116</td>\n",
              "      <td>2729431.0</td>\n",
              "      <td>18.8</td>\n",
              "      <td>18.9</td>\n",
              "      <td>0.433</td>\n",
              "      <td>8.7</td>\n",
              "    </tr>\n",
              "    <tr>\n",
              "      <th>8</th>\n",
              "      <td>Afghanistan</td>\n",
              "      <td>2007</td>\n",
              "      <td>Developing</td>\n",
              "      <td>57.5</td>\n",
              "      <td>295.0</td>\n",
              "      <td>82</td>\n",
              "      <td>0.02</td>\n",
              "      <td>10.910156</td>\n",
              "      <td>63.0</td>\n",
              "      <td>1141</td>\n",
              "      <td>15.2</td>\n",
              "      <td>113</td>\n",
              "      <td>63.0</td>\n",
              "      <td>6.73</td>\n",
              "      <td>63.0</td>\n",
              "      <td>0.1</td>\n",
              "      <td>369.835796</td>\n",
              "      <td>26616792.0</td>\n",
              "      <td>19.0</td>\n",
              "      <td>19.1</td>\n",
              "      <td>0.415</td>\n",
              "      <td>8.4</td>\n",
              "    </tr>\n",
              "    <tr>\n",
              "      <th>9</th>\n",
              "      <td>Afghanistan</td>\n",
              "      <td>2006</td>\n",
              "      <td>Developing</td>\n",
              "      <td>57.3</td>\n",
              "      <td>295.0</td>\n",
              "      <td>84</td>\n",
              "      <td>0.03</td>\n",
              "      <td>17.171518</td>\n",
              "      <td>64.0</td>\n",
              "      <td>1990</td>\n",
              "      <td>14.7</td>\n",
              "      <td>116</td>\n",
              "      <td>58.0</td>\n",
              "      <td>7.43</td>\n",
              "      <td>58.0</td>\n",
              "      <td>0.1</td>\n",
              "      <td>272.563770</td>\n",
              "      <td>2589345.0</td>\n",
              "      <td>19.2</td>\n",
              "      <td>19.3</td>\n",
              "      <td>0.405</td>\n",
              "      <td>8.1</td>\n",
              "    </tr>\n",
              "  </tbody>\n",
              "</table>\n",
              "</div>"
            ],
            "text/plain": [
              "       Country  Year  ... Income composition of resources  Schooling\n",
              "0  Afghanistan  2015  ...                           0.479       10.1\n",
              "1  Afghanistan  2014  ...                           0.476       10.0\n",
              "2  Afghanistan  2013  ...                           0.470        9.9\n",
              "3  Afghanistan  2012  ...                           0.463        9.8\n",
              "4  Afghanistan  2011  ...                           0.454        9.5\n",
              "5  Afghanistan  2010  ...                           0.448        9.2\n",
              "6  Afghanistan  2009  ...                           0.434        8.9\n",
              "7  Afghanistan  2008  ...                           0.433        8.7\n",
              "8  Afghanistan  2007  ...                           0.415        8.4\n",
              "9  Afghanistan  2006  ...                           0.405        8.1\n",
              "\n",
              "[10 rows x 22 columns]"
            ]
          },
          "metadata": {
            "tags": []
          },
          "execution_count": 199
        }
      ]
    },
    {
      "cell_type": "code",
      "metadata": {
        "id": "s1Ju5AP-_kyC",
        "colab_type": "code",
        "colab": {
          "base_uri": "https://localhost:8080/",
          "height": 590
        },
        "outputId": "2bd28767-db49-4fee-bf2d-af3f28d090f4"
      },
      "source": [
        "#extract data from the data frame\n",
        "country = proj[['Country']]\n",
        "year = proj[['Year']]\n",
        "status = proj[['Status']]\n",
        "life_expectancy = proj[['Life expectancy ']]\n",
        "adult_mortality = proj[['Adult Mortality']]\n",
        "infant_deaths = proj[['infant deaths']]\n",
        "alcohol = proj[['Alcohol']]\n",
        "percent_expenditure = proj[['percentage expenditure']]\n",
        "hepB = proj[['Hepatitis B']]\n",
        "measles = proj[['Measles ']]\n",
        "BMI = proj[[' BMI ']]\n",
        "polio = [['Polio']]\n",
        "\n",
        "#find life expectancy by year\n",
        "_2000 = proj.loc[(proj.Year==2000)]\n",
        "life_expectancy_2000 = np.asarray(_2000[['Life expectancy ']])[:,0]\n",
        "\n",
        "_2001 = proj.loc[(proj.Year==2001)]\n",
        "life_expectancy_2001 = np.asarray(_2001[['Life expectancy ']])[:,0]\n",
        "\n",
        "_2003 = proj.loc[(proj.Year==2003)]\n",
        "life_expectancy_2003 = np.asarray(_2003[['Life expectancy ']])[:,0]\n",
        "\n",
        "_2002 = proj.loc[(proj.Year==2002)]\n",
        "life_expectancy_2002 = np.asarray(_2002[['Life expectancy ']])[:,0]\n",
        "\n",
        "_2004 = proj.loc[(proj.Year==2004)]\n",
        "life_expectancy_2004 = np.asarray(_2004[['Life expectancy ']])[:,0]\n",
        "\n",
        "_2005 = proj.loc[(proj.Year==2005)]\n",
        "life_expectancy_2005 = np.asarray(_2005[['Life expectancy ']])[:,0]\n",
        "\n",
        "array = [np.mean(life_expectancy_2000), np.mean(life_expectancy_2001),np.mean(life_expectancy_2002),np.mean(life_expectancy_2003),np.mean(life_expectancy_2004),np.mean(life_expectancy_2005)]\n",
        "\n",
        "time = [2000,2001,2002,2003,2004,2005]\n",
        "\n",
        "#plot average life expectancy over time\n",
        "plt.figure()\n",
        "plt.plot(time,array)\n",
        "plt.title('Average life expectancy in all countries over time')\n",
        "plt.xlabel('Year')\n",
        "plt.ylabel('Average Life expectange (years)')\n",
        "\n",
        "#plot the average percent expenditure over time\n",
        "percent_expenditure_2000 = np.asarray(_2000[['percentage expenditure']])[:,0]\n",
        "percent_expenditure_2001 = np.asarray(_2001[['percentage expenditure']])[:,0]\n",
        "percent_expenditure_2002 = np.asarray(_2002[['percentage expenditure']])[:,0]\n",
        "percent_expenditure_2003 = np.asarray(_2003[['percentage expenditure']])[:,0]\n",
        "percent_expenditure_2004 = np.asarray(_2004[['percentage expenditure']])[:,0]\n",
        "percent_expenditure_2005 = np.asarray(_2005[['percentage expenditure']])[:,0]\n",
        "\n",
        "\n",
        "mean_expend_array = [np.mean(percent_expenditure_2000), np.mean(percent_expenditure_2001),np.mean(percent_expenditure_2002),np.mean(percent_expenditure_2003),np.mean(percent_expenditure_2004),np.mean(percent_expenditure_2005)]\n",
        "\n",
        "plt.figure()\n",
        "plt.plot(time,mean_expend_array)\n",
        "plt.title('Average precent expenditure in all countries over time')\n",
        "plt.xlabel('Year')\n",
        "plt.ylabel('Average expenditure (%)')\n",
        "\n"
      ],
      "execution_count": 200,
      "outputs": [
        {
          "output_type": "execute_result",
          "data": {
            "text/plain": [
              "Text(0, 0.5, 'Average expenditure (%)')"
            ]
          },
          "metadata": {
            "tags": []
          },
          "execution_count": 200
        },
        {
          "output_type": "display_data",
          "data": {
            "image/png": "[encoded data removed]",
            "text/plain": [
              "<Figure size 432x288 with 1 Axes>"
            ]
          },
          "metadata": {
            "tags": []
          }
        },
        {
          "output_type": "display_data",
          "data": {
            "image/png": "[encoded data removed]",
            "text/plain": [
              "<Figure size 432x288 with 1 Axes>"
            ]
          },
          "metadata": {
            "tags": []
          }
        }
      ]
    },
    {
      "cell_type": "code",
      "metadata": {
        "id": "bMSCEPfAlRpd",
        "colab_type": "code",
        "colab": {
          "base_uri": "https://localhost:8080/",
          "height": 235
        },
        "outputId": "58877bf2-66e3-41ac-9639-ee33dafaf5f5"
      },
      "source": [
        "#linear regression model using the year to predict the average life span\n",
        "\n",
        "#vectorize\n",
        "X = np.asarray(time).reshape(len(time))\n",
        "Y = np.asarray(array).reshape(len(time))\n",
        "\n",
        "#construct the new data frame\n",
        "d = {'Year': X, 'Life Expectancy': Y}\n",
        "datframe = pd.DataFrame(data = d, columns = ['Year','Life Expectancy'])\n",
        "\n",
        "#show new data frame\n",
        "datframe.head(6)"
      ],
      "execution_count": 201,
      "outputs": [
        {
          "output_type": "execute_result",
          "data": {
            "text/html": [
              "<div>\n",
              "<style scoped>\n",
              "    .dataframe tbody tr th:only-of-type {\n",
              "        vertical-align: middle;\n",
              "    }\n",
              "\n",
              "    .dataframe tbody tr th {\n",
              "        vertical-align: top;\n",
              "    }\n",
              "\n",
              "    .dataframe thead th {\n",
              "        text-align: right;\n",
              "    }\n",
              "</style>\n",
              "<table border=\"1\" class=\"dataframe\">\n",
              "  <thead>\n",
              "    <tr style=\"text-align: right;\">\n",
              "      <th></th>\n",
              "      <th>Year</th>\n",
              "      <th>Life Expectancy</th>\n",
              "    </tr>\n",
              "  </thead>\n",
              "  <tbody>\n",
              "    <tr>\n",
              "      <th>0</th>\n",
              "      <td>2000</td>\n",
              "      <td>66.750273</td>\n",
              "    </tr>\n",
              "    <tr>\n",
              "      <th>1</th>\n",
              "      <td>2001</td>\n",
              "      <td>67.128962</td>\n",
              "    </tr>\n",
              "    <tr>\n",
              "      <th>2</th>\n",
              "      <td>2002</td>\n",
              "      <td>67.351366</td>\n",
              "    </tr>\n",
              "    <tr>\n",
              "      <th>3</th>\n",
              "      <td>2003</td>\n",
              "      <td>67.433333</td>\n",
              "    </tr>\n",
              "    <tr>\n",
              "      <th>4</th>\n",
              "      <td>2004</td>\n",
              "      <td>67.646448</td>\n",
              "    </tr>\n",
              "    <tr>\n",
              "      <th>5</th>\n",
              "      <td>2005</td>\n",
              "      <td>68.209290</td>\n",
              "    </tr>\n",
              "  </tbody>\n",
              "</table>\n",
              "</div>"
            ],
            "text/plain": [
              "   Year  Life Expectancy\n",
              "0  2000        66.750273\n",
              "1  2001        67.128962\n",
              "2  2002        67.351366\n",
              "3  2003        67.433333\n",
              "4  2004        67.646448\n",
              "5  2005        68.209290"
            ]
          },
          "metadata": {
            "tags": []
          },
          "execution_count": 201
        }
      ]
    },
    {
      "cell_type": "code",
      "metadata": {
        "id": "n--gRb2unNAm",
        "colab_type": "code",
        "colab": {
          "base_uri": "https://localhost:8080/",
          "height": 530
        },
        "outputId": "392e01f3-9c5d-4748-d25f-a5263d92ff4b"
      },
      "source": [
        "#do linear regression on this\n",
        "res = smf.ols('Y ~ X',data = datframe).fit()\n",
        "\n",
        "#show results summary \n",
        "print(res.summary())"
      ],
      "execution_count": 202,
      "outputs": [
        {
          "output_type": "stream",
          "text": [
            "                            OLS Regression Results                            \n",
            "==============================================================================\n",
            "Dep. Variable:                      Y   R-squared:                       0.940\n",
            "Model:                            OLS   Adj. R-squared:                  0.924\n",
            "Method:                 Least Squares   F-statistic:                     62.16\n",
            "Date:                Fri, 27 Sep 2019   Prob (F-statistic):            0.00140\n",
            "Time:                        19:45:58   Log-Likelihood:                 4.7014\n",
            "No. Observations:                   6   AIC:                            -5.403\n",
            "Df Residuals:                       4   BIC:                            -5.819\n",
            "Df Model:                           1                                         \n",
            "Covariance Type:            nonrobust                                         \n",
            "==============================================================================\n",
            "                 coef    std err          t      P>|t|      [0.025      0.975]\n",
            "------------------------------------------------------------------------------\n",
            "Intercept   -443.4755     64.798     -6.844      0.002    -623.383    -263.568\n",
            "X              0.2551      0.032      7.884      0.001       0.165       0.345\n",
            "==============================================================================\n",
            "Omnibus:                          nan   Durbin-Watson:                   1.948\n",
            "Prob(Omnibus):                    nan   Jarque-Bera (JB):                0.547\n",
            "Skew:                          -0.108   Prob(JB):                        0.761\n",
            "Kurtosis:                       1.537   Cond. No.                     2.35e+06\n",
            "==============================================================================\n",
            "\n",
            "Warnings:\n",
            "[1] Standard Errors assume that the covariance matrix of the errors is correctly specified.\n",
            "[2] The condition number is large, 2.35e+06. This might indicate that there are\n",
            "strong multicollinearity or other numerical problems.\n"
          ],
          "name": "stdout"
        },
        {
          "output_type": "stream",
          "text": [
            "/usr/local/lib/python3.6/dist-packages/statsmodels/stats/stattools.py:71: ValueWarning: omni_normtest is not valid with less than 8 observations; 6 samples were given.\n",
            "  \"samples were given.\" % int(n), ValueWarning)\n"
          ],
          "name": "stderr"
        }
      ]
    }
  ]
}